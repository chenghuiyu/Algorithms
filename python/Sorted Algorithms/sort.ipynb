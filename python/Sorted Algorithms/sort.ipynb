{
 "cells": [
  {
   "cell_type": "markdown",
   "metadata": {},
   "source": [
    "冒泡排序原理即：从数组下标为0的位置开始，比较下标位置为0和1的数据，如果0号位置的大，则交换位置，如果1号位置大，则什么也不做，然后右移一个位置，比较1号和2号的数据，和刚才的一样，如果1号的大，则交换位置，以此类推直至最后一个位置结束，到此数组中最大的元素就被排到了最后，之后再根据之前的步骤开始排前面的数据，直至全部数据都排序完成。"
   ]
  },
  {
   "cell_type": "code",
   "execution_count": 5,
   "metadata": {},
   "outputs": [],
   "source": [
    "## 冒泡排序\n",
    "def pupple(reList):\n",
    "    list_len = len(reList)\n",
    "    for i in range(list_len):\n",
    "        for j in range(0, list_len - i - 1):\n",
    "            if(reList[j] > reList[j + 1]):\n",
    "                reList[j + 1], reList[j] = reList[j], reList[j + 1]\n",
    "    return reList"
   ]
  },
  {
   "cell_type": "code",
   "execution_count": 6,
   "metadata": {},
   "outputs": [
    {
     "name": "stdout",
     "output_type": "stream",
     "text": [
      "[1, 2, 3, 4, 5, 7]\n"
     ]
    }
   ],
   "source": [
    "print(pupple([3,2,7,4,5,1]))"
   ]
  },
  {
   "cell_type": "markdown",
   "metadata": {},
   "source": [
    "## 选择排序\n",
    "第1趟，在待排序记录r1 ~ r[n]中选出最小的记录，将它与r1交换；第2趟，在待排序记录r2 ~ r[n]中选出最小的记录，将它与r2交换；以此类推，第i趟在待排序记录r[i] ~ r[n]中选出最小的记录，将它与r[i]交换，使有序序列不断增长直到全部排序完毕。"
   ]
  },
  {
   "cell_type": "code",
   "execution_count": 7,
   "metadata": {},
   "outputs": [],
   "source": [
    "##选择排序\n",
    "def selectSort(reList):\n",
    "    list_len = len(reList)\n",
    "    for i in range(list_len):\n",
    "        minIndex = i\n",
    "        for j in range(i+1, list_len):\n",
    "            if(reList[j] < reList[minIndex]):\n",
    "                minIndex = j\n",
    "        reList[i], reList[minIndex] = reList[minIndex], reList[i]\n",
    "    return reList\n"
   ]
  },
  {
   "cell_type": "code",
   "execution_count": 8,
   "metadata": {},
   "outputs": [
    {
     "name": "stdout",
     "output_type": "stream",
     "text": [
      "[1, 2, 3, 4, 5, 7]\n"
     ]
    }
   ],
   "source": [
    "print(selectSort([3,2,7,4,5,1]))"
   ]
  },
  {
   "cell_type": "markdown",
   "metadata": {},
   "source": [
    "## 快速排序\n",
    "1、先从数列中取出一个数作为基准数。\n",
    "\n",
    "2、分区过程，将比这个数大的数全放到它的右边，小于或等于它的数全放到它的左边。\n",
    "\n",
    "3、再对左右区间重复第二步，直到各区间只有一个数。\n",
    "\n",
    "分片的思想+递归的思想，这是取了第一个为基准值，栈高为O(log(n)),栈长O(n),所以运行时间为栈高x栈长，也就是算法平均运算时间为O(nlog(n))"
   ]
  },
  {
   "cell_type": "code",
   "execution_count": 9,
   "metadata": {},
   "outputs": [],
   "source": [
    "## 快速排序\n",
    "def quickSort(array):\n",
    "    if len(array) < 2:\n",
    "        return array\n",
    "    else:\n",
    "        #选取基数\n",
    "        pivot = array[0]\n",
    "        less = [i for i in array[1:] if i < pivot]\n",
    "        greater = [j for j in array[1:] if j > pivot]\n",
    "    return quickSort(less) + [pivot] + quickSort(greater)"
   ]
  },
  {
   "cell_type": "code",
   "execution_count": 10,
   "metadata": {},
   "outputs": [
    {
     "name": "stdout",
     "output_type": "stream",
     "text": [
      "[1, 2, 3, 4, 5, 7]\n"
     ]
    }
   ],
   "source": [
    "print(quickSort([3,2,7,4,5,1]))"
   ]
  },
  {
   "cell_type": "markdown",
   "metadata": {},
   "source": [
    "## 插入排序\n",
    "\n",
    "插入排序就是每一步都将一个待排数据按其大小插入到已经排序的数据中的适当位置，直到全部插入完毕。\n",
    "\n",
    "1、默认序列中的第0个元素是有序的（因为只有一个元素a[0]嘛，自然是有序的）；\n",
    "\n",
    "2、从下标为1（下标0没啥好插的）的元素开始，取当前下标i位置处的元素a[i]保存到一个临时变量waitInsert里；\n",
    "\n",
    "3、waitInsert与对前半部分有序序列的循环遍历比较，直到遇到第一个比waitInsert大的元素（这里默认是从小到大排序），此时的下标为j，然后将其插入到j的位置即可；\n",
    "\n",
    "4、因为前面的插入，导致后面元素向后推移一个位置，没关系，把原来下标i的元素弹出即可；\n",
    "\n",
    "5、重复进行第2步到第4步，直到乱序序列中的元素被全部插入到有序序列中；\n",
    "\n",
    "经过以上5个步骤之后，整体序列必然有序，排序完成。\n"
   ]
  },
  {
   "cell_type": "code",
   "execution_count": 11,
   "metadata": {},
   "outputs": [],
   "source": [
    "def insertSort(reList):\n",
    "    list_len = len(reList)\n",
    "    for i in range(1, list_len):\n",
    "        for j in range(i):\n",
    "            if reList[j] > reList[i]:\n",
    "                #首先碰到第一个比自己大的数字，赶紧刹车，停在那，所以选择insert\n",
    "                reList.insert(j, reList[i])\n",
    "                #因为前面的insert操作，所以后面位数+1，这个位置的数已经insert到前面去了，所以pop弹出\n",
    "                reList.pop(i + 1)\n",
    "                break\n",
    "    return reList"
   ]
  },
  {
   "cell_type": "code",
   "execution_count": 12,
   "metadata": {},
   "outputs": [
    {
     "name": "stdout",
     "output_type": "stream",
     "text": [
      "[1, 2, 3, 4, 5, 7]\n"
     ]
    }
   ],
   "source": [
    "print(insertSort([3,2,7,4,5,1]))"
   ]
  },
  {
   "cell_type": "markdown",
   "metadata": {},
   "source": [
    "## 希尔排序\n",
    "\n",
    "希尔(Shell)排序又称为缩小增量排序，它是一种插入排序。它是直接插入排序算法的一种威力加强版。\n",
    "\n",
    "1、在第一趟排序中，我们不妨设 gap1 = N / 2 = 5，即相隔距离为 5 的元素组成一组，可以分为 5 组。\n",
    "接下来，按照直接插入排序的方法对每个组进行排序。\n",
    "\n",
    "2、在第二趟排序中，我们把上次的 gap 缩小一半，即 gap2 = gap1 / 2 = 2 (取整数)。这样每相隔距离为 2 的元素组成一组，可以分为 2 组。\n",
    "\n",
    "按照直接插入排序的方法对每个组进行排序。\n",
    "\n",
    "3、在第三趟排序中，再次把 gap 缩小一半，即gap3 = gap2 / 2 = 1。 这样相隔距离为 1 的元素组成一组，即只有一组。\n",
    "\n",
    "按照直接插入排序的方法对每个组进行排序。此时，排序已经结束。\n",
    "\n",
    "4、需要注意一下的是，图中有两个相等数值的元素 5 和 5 。我们可以清楚的看到，在排序过程中，两个元素位置交换了。\n",
    "\n",
    "所以，希尔排序是不稳定的算法。"
   ]
  },
  {
   "cell_type": "code",
   "execution_count": 10,
   "metadata": {},
   "outputs": [],
   "source": [
    "def shell_sort(reList):\n",
    "    list_len = len(reList)\n",
    "    grap = list_len / 2\n",
    "    while grap > 0:\n",
    "        for i in range(grap, list_len):\n",
    "            temp = reList[i]\n",
    "            j = i\n",
    "            while j >= grap and reList[j - grap] > temp:\n",
    "                reList[j] = reList[j - grap]\n",
    "                j -= grap\n",
    "            reList[j] = temp\n",
    "            \n",
    "        grap = grap/2\n",
    "    return reList "
   ]
  },
  {
   "cell_type": "code",
   "execution_count": 11,
   "metadata": {},
   "outputs": [
    {
     "name": "stdout",
     "output_type": "stream",
     "text": [
      "[1, 2, 3, 4, 5, 7]\n"
     ]
    }
   ],
   "source": [
    "print(shell_sort([3,2,7,4,5,1]))"
   ]
  },
  {
   "cell_type": "markdown",
   "metadata": {},
   "source": [
    "## 归并排序\n",
    "\n",
    "假设我们有一个没有排好序的序列(14,12,15,13,11,16)，那么首先我们使用分割的办法将这个序列分割成一个个已经排好序的子序列。然后再利用归并的方法将一个个的子序列合并成排序好的序列。分割和归并的过程可以看下面的图例。这样通过先递归的分解数列，再合并数列就完成了归并排序。\n"
   ]
  },
  {
   "cell_type": "code",
   "execution_count": 14,
   "metadata": {},
   "outputs": [],
   "source": [
    "def Merge(left, right):\n",
    "    result = []\n",
    "    while left and right:\n",
    "        result.append(left.pop(0) if left[0] <= right[0] else right.pop(0))\n",
    "    while left:\n",
    "        result.append(left.pop(0))\n",
    "    while right:\n",
    "        result.append(right.pop(0))\n",
    "    \n",
    "    return result\n",
    "\n",
    "def mergeSort(reList):\n",
    "    if len(reList) <= 1:\n",
    "        return reList\n",
    "    \n",
    "    midd_index = len(reList) / 2\n",
    "    left = mergeSort(reList[:midd_index])\n",
    "    right = mergeSort(reList[midd_index:])\n",
    "    return Merge(left, right)"
   ]
  },
  {
   "cell_type": "code",
   "execution_count": 15,
   "metadata": {},
   "outputs": [
    {
     "name": "stdout",
     "output_type": "stream",
     "text": [
      "[1, 2, 3, 4, 5, 7]\n"
     ]
    }
   ],
   "source": [
    "print(mergeSort([3,2,7,4,5,1]))"
   ]
  },
  {
   "cell_type": "markdown",
   "metadata": {},
   "source": [
    "## 堆排序\n",
    "\n",
    "1、创建最大堆:将堆所有数据重新排序，使其成为最大堆\n",
    "\n",
    "2、最大堆调整:作用是保持最大堆的性质，是创建最大堆的核心子程序\n",
    "\n",
    "3、堆排序:移除位在第一个数据的根节点，并做最大堆调整的递归运算"
   ]
  },
  {
   "cell_type": "code",
   "execution_count": 23,
   "metadata": {},
   "outputs": [],
   "source": [
    "import random\n",
    "\n",
    "def MAX_Heapify(heap, HeapSize, root):\n",
    "    #找到左叶子节点\n",
    "    left = root*2\n",
    "    #找到右叶子节点\n",
    "    right = left + 1\n",
    "    #初始化最大节点的位置\n",
    "    larger = root\n",
    "    \n",
    "    if left < HeapSize and heap[larger] < heap[left]:\n",
    "        larger = left\n",
    "    if right < HeapSize and heap[larger] < heap[right]:\n",
    "        larger = right\n",
    "    #如果做了堆调整则larger的值等于左节点或者右节点的，这个时候做对调值操作\n",
    "    if larger != root:\n",
    "        heap[root], heap[larger] = heap[larger], heap[root]\n",
    "        MAX_Heapify(heap, HeapSize, larger)\n",
    "\n",
    "        \n",
    "def Build_MAX_Heap(heap):\n",
    "    HeapSize = len(heap)\n",
    "    for i in xrange((HeapSize - 2)//2, -1 , -1):\n",
    "        MAX_Heapify(heap, HeapSize, i)\n",
    "        \n",
    "def HeapSort(heap):\n",
    "    Build_MAX_Heap(heap)\n",
    "    for i in range(len(heap) - 1, -1, -1):\n",
    "        heap[0], heap[i] = heap[i], heap[0]\n",
    "        MAX_Heapify(heap, i, 0)\n",
    "    return heap\n",
    "        "
   ]
  },
  {
   "cell_type": "code",
   "execution_count": 24,
   "metadata": {},
   "outputs": [
    {
     "name": "stdout",
     "output_type": "stream",
     "text": [
      "[1, 2, 3, 4, 5, 7]\n"
     ]
    }
   ],
   "source": [
    "print(HeapSort([3,2,7,4,5,1]))"
   ]
  },
  {
   "cell_type": "code",
   "execution_count": null,
   "metadata": {},
   "outputs": [],
   "source": []
  }
 ],
 "metadata": {
  "kernelspec": {
   "display_name": "Python 2",
   "language": "python",
   "name": "python2"
  },
  "language_info": {
   "codemirror_mode": {
    "name": "ipython",
    "version": 2
   },
   "file_extension": ".py",
   "mimetype": "text/x-python",
   "name": "python",
   "nbconvert_exporter": "python",
   "pygments_lexer": "ipython2",
   "version": "2.7.12"
  }
 },
 "nbformat": 4,
 "nbformat_minor": 2
}
